{
 "cells": [
  {
   "cell_type": "markdown",
   "metadata": {},
   "source": [
    "# 06-01-2025"
   ]
  },
  {
   "cell_type": "code",
   "execution_count": 1,
   "metadata": {},
   "outputs": [
    {
     "name": "stdout",
     "output_type": "stream",
     "text": [
      "Collecting fakerNote: you may need to restart the kernel to use updated packages.\n",
      "\n",
      "  Downloading Faker-33.3.0-py3-none-any.whl (1.9 MB)\n",
      "                                              0.0/1.9 MB ? eta -:--:--\n",
      "                                              0.0/1.9 MB 991.0 kB/s eta 0:00:02\n",
      "     ---                                      0.1/1.9 MB 1.7 MB/s eta 0:00:02\n",
      "     ------                                   0.3/1.9 MB 2.0 MB/s eta 0:00:01\n",
      "     -----------                              0.5/1.9 MB 2.8 MB/s eta 0:00:01\n",
      "     -----------------                        0.8/1.9 MB 3.5 MB/s eta 0:00:01\n",
      "     ----------------------                   1.1/1.9 MB 3.8 MB/s eta 0:00:01\n",
      "     ----------------------------             1.4/1.9 MB 4.2 MB/s eta 0:00:01\n",
      "     ----------------------------------       1.6/1.9 MB 4.5 MB/s eta 0:00:01\n",
      "     ---------------------------------------  1.9/1.9 MB 4.6 MB/s eta 0:00:01\n",
      "     ---------------------------------------  1.9/1.9 MB 4.6 MB/s eta 0:00:01\n",
      "     ---------------------------------------- 1.9/1.9 MB 4.0 MB/s eta 0:00:00\n",
      "Requirement already satisfied: python-dateutil>=2.4 in c:\\users\\comtech\\appdata\\roaming\\python\\python311\\site-packages (from faker) (2.9.0.post0)\n",
      "Requirement already satisfied: typing-extensions in c:\\users\\comtech\\appdata\\roaming\\python\\python311\\site-packages (from faker) (4.12.2)\n",
      "Requirement already satisfied: six>=1.5 in c:\\users\\comtech\\appdata\\roaming\\python\\python311\\site-packages (from python-dateutil>=2.4->faker) (1.16.0)\n",
      "Installing collected packages: faker\n",
      "Successfully installed faker-33.3.0\n"
     ]
    },
    {
     "name": "stderr",
     "output_type": "stream",
     "text": [
      "  WARNING: The script faker.exe is installed in 'c:\\Python\\Python311\\Scripts' which is not on PATH.\n",
      "  Consider adding this directory to PATH or, if you prefer to suppress this warning, use --no-warn-script-location.\n",
      "\n",
      "[notice] A new release of pip is available: 23.1.2 -> 24.3.1\n",
      "[notice] To update, run: python.exe -m pip install --upgrade pip\n"
     ]
    }
   ],
   "source": [
    "%pip install faker\n"
   ]
  },
  {
   "cell_type": "code",
   "execution_count": 2,
   "metadata": {},
   "outputs": [
    {
     "name": "stdout",
     "output_type": "stream",
     "text": [
      "Collecting pandas\n",
      "  Downloading pandas-2.2.3-cp311-cp311-win_amd64.whl (11.6 MB)\n",
      "                                              0.0/11.6 MB ? eta -:--:--\n",
      "                                              0.1/11.6 MB 2.6 MB/s eta 0:00:05\n",
      "                                              0.2/11.6 MB 3.0 MB/s eta 0:00:04\n",
      "     -                                        0.5/11.6 MB 4.0 MB/s eta 0:00:03\n",
      "     --                                       0.8/11.6 MB 4.5 MB/s eta 0:00:03\n",
      "     ---                                      1.1/11.6 MB 4.9 MB/s eta 0:00:03\n",
      "     ----                                     1.3/11.6 MB 5.0 MB/s eta 0:00:03\n",
      "     -----                                    1.6/11.6 MB 5.3 MB/s eta 0:00:02\n",
      "     ------                                   1.9/11.6 MB 5.3 MB/s eta 0:00:02\n",
      "     -------                                  2.2/11.6 MB 5.5 MB/s eta 0:00:02\n",
      "     --------                                 2.5/11.6 MB 5.5 MB/s eta 0:00:02\n",
      "     ---------                                2.8/11.6 MB 5.5 MB/s eta 0:00:02\n",
      "     ----------                               3.0/11.6 MB 5.6 MB/s eta 0:00:02\n",
      "     -----------                              3.2/11.6 MB 5.5 MB/s eta 0:00:02\n",
      "     -----------                              3.5/11.6 MB 5.5 MB/s eta 0:00:02\n",
      "     ------------                             3.7/11.6 MB 5.5 MB/s eta 0:00:02\n",
      "     -------------                            4.0/11.6 MB 5.5 MB/s eta 0:00:02\n",
      "     --------------                           4.2/11.6 MB 5.5 MB/s eta 0:00:02\n",
      "     ---------------                          4.5/11.6 MB 5.5 MB/s eta 0:00:02\n",
      "     ----------------                         4.8/11.6 MB 5.6 MB/s eta 0:00:02\n",
      "     -----------------                        5.0/11.6 MB 5.6 MB/s eta 0:00:02\n",
      "     ------------------                       5.3/11.6 MB 5.6 MB/s eta 0:00:02\n",
      "     -------------------                      5.6/11.6 MB 5.6 MB/s eta 0:00:02\n",
      "     --------------------                     5.9/11.6 MB 5.6 MB/s eta 0:00:02\n",
      "     ---------------------                    6.1/11.6 MB 5.6 MB/s eta 0:00:01\n",
      "     ----------------------                   6.4/11.6 MB 5.6 MB/s eta 0:00:01\n",
      "     -----------------------                  6.7/11.6 MB 5.6 MB/s eta 0:00:01\n",
      "     ------------------------                 7.0/11.6 MB 5.7 MB/s eta 0:00:01\n",
      "     ------------------------                 7.2/11.6 MB 5.7 MB/s eta 0:00:01\n",
      "     -------------------------                7.5/11.6 MB 5.7 MB/s eta 0:00:01\n",
      "     --------------------------               7.8/11.6 MB 5.7 MB/s eta 0:00:01\n",
      "     ---------------------------              8.0/11.6 MB 5.7 MB/s eta 0:00:01\n",
      "     ----------------------------             8.3/11.6 MB 5.7 MB/s eta 0:00:01\n",
      "     -----------------------------            8.5/11.6 MB 5.7 MB/s eta 0:00:01\n",
      "     ------------------------------           8.8/11.6 MB 5.7 MB/s eta 0:00:01\n",
      "     ------------------------------           8.8/11.6 MB 5.7 MB/s eta 0:00:01\n",
      "     ------------------------------           8.8/11.6 MB 5.7 MB/s eta 0:00:01\n",
      "     --------------------------------         9.3/11.6 MB 5.5 MB/s eta 0:00:01\n",
      "     --------------------------------         9.5/11.6 MB 5.5 MB/s eta 0:00:01\n",
      "     ----------------------------------       10.0/11.6 MB 5.6 MB/s eta 0:00:01\n",
      "     ------------------------------------     10.5/11.6 MB 5.9 MB/s eta 0:00:01\n",
      "     ------------------------------------     10.6/11.6 MB 5.7 MB/s eta 0:00:01\n",
      "     --------------------------------------   11.2/11.6 MB 5.8 MB/s eta 0:00:01\n",
      "     ---------------------------------------  11.4/11.6 MB 5.8 MB/s eta 0:00:01\n",
      "     ---------------------------------------  11.6/11.6 MB 5.8 MB/s eta 0:00:01\n",
      "     ---------------------------------------  11.6/11.6 MB 5.8 MB/s eta 0:00:01\n",
      "     ---------------------------------------  11.6/11.6 MB 5.8 MB/s eta 0:00:01\n",
      "     ---------------------------------------  11.6/11.6 MB 5.8 MB/s eta 0:00:01\n",
      "     ---------------------------------------- 11.6/11.6 MB 5.2 MB/s eta 0:00:00\n",
      "Collecting numpy>=1.23.2 (from pandas)\n",
      "  Downloading numpy-2.2.1-cp311-cp311-win_amd64.whl (12.9 MB)\n",
      "                                              0.0/12.9 MB ? eta -:--:--\n",
      "                                              0.3/12.9 MB 5.9 MB/s eta 0:00:03\n",
      "     -                                        0.6/12.9 MB 6.3 MB/s eta 0:00:02\n",
      "     --                                       0.9/12.9 MB 6.0 MB/s eta 0:00:03\n",
      "     ---                                      1.1/12.9 MB 5.9 MB/s eta 0:00:02\n",
      "     ----                                     1.4/12.9 MB 5.9 MB/s eta 0:00:02\n",
      "     -----                                    1.7/12.9 MB 6.2 MB/s eta 0:00:02\n",
      "     ------                                   2.0/12.9 MB 6.2 MB/s eta 0:00:02\n",
      "     ------                                   2.2/12.9 MB 6.1 MB/s eta 0:00:02\n",
      "     -------                                  2.5/12.9 MB 6.1 MB/s eta 0:00:02\n",
      "     -------                                  2.5/12.9 MB 5.9 MB/s eta 0:00:02\n",
      "     --------                                 2.8/12.9 MB 5.6 MB/s eta 0:00:02\n",
      "     ---------                                3.0/12.9 MB 5.5 MB/s eta 0:00:02\n",
      "     ----------                               3.3/12.9 MB 5.5 MB/s eta 0:00:02\n",
      "     ----------                               3.5/12.9 MB 5.5 MB/s eta 0:00:02\n",
      "     -----------                              3.7/12.9 MB 5.4 MB/s eta 0:00:02\n",
      "     ------------                             4.0/12.9 MB 5.4 MB/s eta 0:00:02\n",
      "     -------------                            4.2/12.9 MB 5.4 MB/s eta 0:00:02\n",
      "     -------------                            4.4/12.9 MB 5.3 MB/s eta 0:00:02\n",
      "     --------------                           4.7/12.9 MB 5.3 MB/s eta 0:00:02\n",
      "     ---------------                          4.9/12.9 MB 5.4 MB/s eta 0:00:02\n",
      "     ---------------                          5.2/12.9 MB 5.3 MB/s eta 0:00:02\n",
      "     ----------------                         5.4/12.9 MB 5.3 MB/s eta 0:00:02\n",
      "     ------------------                       5.9/12.9 MB 5.3 MB/s eta 0:00:02\n",
      "     ------------------                       6.1/12.9 MB 5.4 MB/s eta 0:00:02\n",
      "     -------------------                      6.2/12.9 MB 5.4 MB/s eta 0:00:02\n",
      "     --------------------                     6.6/12.9 MB 5.3 MB/s eta 0:00:02\n",
      "     --------------------                     6.7/12.9 MB 5.2 MB/s eta 0:00:02\n",
      "     ---------------------                    6.9/12.9 MB 5.2 MB/s eta 0:00:02\n",
      "     ----------------------                   7.2/12.9 MB 5.2 MB/s eta 0:00:02\n",
      "     ----------------------                   7.4/12.9 MB 5.2 MB/s eta 0:00:02\n",
      "     -----------------------                  7.5/12.9 MB 5.1 MB/s eta 0:00:02\n",
      "     ------------------------                 7.8/12.9 MB 5.1 MB/s eta 0:00:02\n",
      "     ------------------------                 8.0/12.9 MB 5.1 MB/s eta 0:00:01\n",
      "     -------------------------                8.3/12.9 MB 5.1 MB/s eta 0:00:01\n",
      "     --------------------------               8.5/12.9 MB 5.1 MB/s eta 0:00:01\n",
      "     ---------------------------              8.7/12.9 MB 5.1 MB/s eta 0:00:01\n",
      "     ---------------------------              9.0/12.9 MB 5.1 MB/s eta 0:00:01\n",
      "     ----------------------------             9.2/12.9 MB 5.0 MB/s eta 0:00:01\n",
      "     -----------------------------            9.5/12.9 MB 5.0 MB/s eta 0:00:01\n",
      "     -----------------------------            9.6/12.9 MB 5.0 MB/s eta 0:00:01\n",
      "     ------------------------------           9.9/12.9 MB 5.0 MB/s eta 0:00:01\n",
      "     -------------------------------          10.1/12.9 MB 5.0 MB/s eta 0:00:01\n",
      "     --------------------------------         10.4/12.9 MB 5.0 MB/s eta 0:00:01\n",
      "     ---------------------------------        10.7/12.9 MB 4.9 MB/s eta 0:00:01\n",
      "     ---------------------------------        10.9/12.9 MB 4.9 MB/s eta 0:00:01\n",
      "     ----------------------------------       11.2/12.9 MB 4.8 MB/s eta 0:00:01\n",
      "     -----------------------------------      11.5/12.9 MB 4.8 MB/s eta 0:00:01\n",
      "     ------------------------------------     11.8/12.9 MB 4.7 MB/s eta 0:00:01\n",
      "     -------------------------------------    12.0/12.9 MB 4.7 MB/s eta 0:00:01\n",
      "     -------------------------------------    12.2/12.9 MB 4.6 MB/s eta 0:00:01\n",
      "     --------------------------------------   12.3/12.9 MB 4.6 MB/s eta 0:00:01\n",
      "     --------------------------------------   12.6/12.9 MB 4.6 MB/s eta 0:00:01\n",
      "     ---------------------------------------  12.7/12.9 MB 4.6 MB/s eta 0:00:01\n",
      "     ---------------------------------------  12.9/12.9 MB 4.7 MB/s eta 0:00:01\n",
      "     ---------------------------------------  12.9/12.9 MB 4.7 MB/s eta 0:00:01\n",
      "     ---------------------------------------  12.9/12.9 MB 4.7 MB/s eta 0:00:01\n",
      "     ---------------------------------------  12.9/12.9 MB 4.7 MB/s eta 0:00:01\n",
      "     ---------------------------------------  12.9/12.9 MB 4.7 MB/s eta 0:00:01\n",
      "     ---------------------------------------- 12.9/12.9 MB 4.1 MB/s eta 0:00:00\n",
      "Requirement already satisfied: python-dateutil>=2.8.2 in c:\\users\\comtech\\appdata\\roaming\\python\\python311\\site-packages (from pandas) (2.9.0.post0)\n",
      "Collecting pytz>=2020.1 (from pandas)\n",
      "  Downloading pytz-2024.2-py2.py3-none-any.whl (508 kB)\n",
      "                                              0.0/508.0 kB ? eta -:--:--\n",
      "     -------------------                    256.0/508.0 kB 5.2 MB/s eta 0:00:01\n",
      "     -------------------------------------  501.8/508.0 kB 5.3 MB/s eta 0:00:01\n",
      "     -------------------------------------- 508.0/508.0 kB 3.6 MB/s eta 0:00:00\n",
      "Collecting tzdata>=2022.7 (from pandas)\n",
      "  Downloading tzdata-2024.2-py2.py3-none-any.whl (346 kB)\n",
      "                                              0.0/346.6 kB ? eta -:--:--\n",
      "     -------------------                    174.1/346.6 kB 5.3 MB/s eta 0:00:01\n",
      "     -------------------------------------  337.9/346.6 kB 5.3 MB/s eta 0:00:01\n",
      "     -------------------------------------- 346.6/346.6 kB 3.1 MB/s eta 0:00:00\n",
      "Requirement already satisfied: six>=1.5 in c:\\users\\comtech\\appdata\\roaming\\python\\python311\\site-packages (from python-dateutil>=2.8.2->pandas) (1.16.0)\n",
      "Installing collected packages: pytz, tzdata, numpy, pandas\n",
      "Successfully installed numpy-2.2.1 pandas-2.2.3 pytz-2024.2 tzdata-2024.2\n",
      "Note: you may need to restart the kernel to use updated packages.\n"
     ]
    },
    {
     "name": "stderr",
     "output_type": "stream",
     "text": [
      "  WARNING: The scripts f2py.exe and numpy-config.exe are installed in 'c:\\Python\\Python311\\Scripts' which is not on PATH.\n",
      "  Consider adding this directory to PATH or, if you prefer to suppress this warning, use --no-warn-script-location.\n",
      "\n",
      "[notice] A new release of pip is available: 23.1.2 -> 24.3.1\n",
      "[notice] To update, run: python.exe -m pip install --upgrade pip\n"
     ]
    }
   ],
   "source": [
    "%pip install pandas\n"
   ]
  },
  {
   "cell_type": "code",
   "execution_count": 11,
   "metadata": {},
   "outputs": [
    {
     "name": "stdout",
     "output_type": "stream",
     "text": [
      "Collecting seaborn\n",
      "  Downloading seaborn-0.13.2-py3-none-any.whl.metadata (5.4 kB)\n",
      "Requirement already satisfied: numpy!=1.24.0,>=1.20 in c:\\users\\comtech\\appdata\\local\\programs\\python\\python313\\lib\\site-packages (from seaborn) (2.2.1)\n",
      "Collecting pandas>=1.2 (from seaborn)\n",
      "  Downloading pandas-2.2.3-cp313-cp313-win_amd64.whl.metadata (19 kB)\n",
      "Collecting matplotlib!=3.6.1,>=3.4 (from seaborn)\n",
      "  Downloading matplotlib-3.10.0-cp313-cp313-win_amd64.whl.metadata (11 kB)\n",
      "Collecting contourpy>=1.0.1 (from matplotlib!=3.6.1,>=3.4->seaborn)\n",
      "  Downloading contourpy-1.3.1-cp313-cp313-win_amd64.whl.metadata (5.4 kB)\n",
      "Collecting cycler>=0.10 (from matplotlib!=3.6.1,>=3.4->seaborn)\n",
      "  Using cached cycler-0.12.1-py3-none-any.whl.metadata (3.8 kB)\n",
      "Collecting fonttools>=4.22.0 (from matplotlib!=3.6.1,>=3.4->seaborn)\n",
      "  Downloading fonttools-4.55.3-cp313-cp313-win_amd64.whl.metadata (168 kB)\n",
      "Collecting kiwisolver>=1.3.1 (from matplotlib!=3.6.1,>=3.4->seaborn)\n",
      "  Downloading kiwisolver-1.4.8-cp313-cp313-win_amd64.whl.metadata (6.3 kB)\n",
      "Requirement already satisfied: packaging>=20.0 in c:\\users\\comtech\\appdata\\roaming\\python\\python313\\site-packages (from matplotlib!=3.6.1,>=3.4->seaborn) (24.2)\n",
      "Collecting pillow>=8 (from matplotlib!=3.6.1,>=3.4->seaborn)\n",
      "  Downloading pillow-11.1.0-cp313-cp313-win_amd64.whl.metadata (9.3 kB)\n",
      "Collecting pyparsing>=2.3.1 (from matplotlib!=3.6.1,>=3.4->seaborn)\n",
      "  Using cached pyparsing-3.2.1-py3-none-any.whl.metadata (5.0 kB)\n",
      "Requirement already satisfied: python-dateutil>=2.7 in c:\\users\\comtech\\appdata\\roaming\\python\\python313\\site-packages (from matplotlib!=3.6.1,>=3.4->seaborn) (2.9.0.post0)\n",
      "Collecting pytz>=2020.1 (from pandas>=1.2->seaborn)\n",
      "  Using cached pytz-2024.2-py2.py3-none-any.whl.metadata (22 kB)\n",
      "Collecting tzdata>=2022.7 (from pandas>=1.2->seaborn)\n",
      "  Using cached tzdata-2024.2-py2.py3-none-any.whl.metadata (1.4 kB)\n",
      "Requirement already satisfied: six>=1.5 in c:\\users\\comtech\\appdata\\roaming\\python\\python313\\site-packages (from python-dateutil>=2.7->matplotlib!=3.6.1,>=3.4->seaborn) (1.16.0)\n",
      "Downloading seaborn-0.13.2-py3-none-any.whl (294 kB)\n",
      "Downloading matplotlib-3.10.0-cp313-cp313-win_amd64.whl (8.0 MB)\n",
      "   ---------------------------------------- 0.0/8.0 MB ? eta -:--:--\n",
      "   -- ------------------------------------- 0.5/8.0 MB 6.8 MB/s eta 0:00:02\n",
      "   --------- ------------------------------ 1.8/8.0 MB 5.1 MB/s eta 0:00:02\n",
      "   --------------- ------------------------ 3.1/8.0 MB 5.2 MB/s eta 0:00:01\n",
      "   ---------------------- ----------------- 4.5/8.0 MB 5.2 MB/s eta 0:00:01\n",
      "   -------------------------- ------------- 5.2/8.0 MB 5.0 MB/s eta 0:00:01\n",
      "   ------------------------------- -------- 6.3/8.0 MB 4.9 MB/s eta 0:00:01\n",
      "   ----------------------------------- ---- 7.1/8.0 MB 4.7 MB/s eta 0:00:01\n",
      "   ------------------------------------- -- 7.6/8.0 MB 4.5 MB/s eta 0:00:01\n",
      "   ---------------------------------------  7.9/8.0 MB 4.4 MB/s eta 0:00:01\n",
      "   ---------------------------------------- 8.0/8.0 MB 3.9 MB/s eta 0:00:00\n",
      "Downloading pandas-2.2.3-cp313-cp313-win_amd64.whl (11.5 MB)\n",
      "   ---------------------------------------- 0.0/11.5 MB ? eta -:--:--\n",
      "    --------------------------------------- 0.3/11.5 MB ? eta -:--:--\n",
      "   - -------------------------------------- 0.5/11.5 MB 1.6 MB/s eta 0:00:07\n",
      "   -- ------------------------------------- 0.8/11.5 MB 1.3 MB/s eta 0:00:08\n",
      "   ---- ----------------------------------- 1.3/11.5 MB 1.4 MB/s eta 0:00:08\n",
      "   ----- ---------------------------------- 1.6/11.5 MB 1.5 MB/s eta 0:00:07\n",
      "   ------ --------------------------------- 1.8/11.5 MB 1.5 MB/s eta 0:00:07\n",
      "   ------- -------------------------------- 2.1/11.5 MB 1.5 MB/s eta 0:00:07\n",
      "   --------- ------------------------------ 2.6/11.5 MB 1.5 MB/s eta 0:00:06\n",
      "   ---------- ----------------------------- 2.9/11.5 MB 1.5 MB/s eta 0:00:06\n",
      "   ----------- ---------------------------- 3.4/11.5 MB 1.6 MB/s eta 0:00:06\n",
      "   ------------ --------------------------- 3.7/11.5 MB 1.5 MB/s eta 0:00:06\n",
      "   ------------- -------------------------- 3.9/11.5 MB 1.5 MB/s eta 0:00:06\n",
      "   -------------- ------------------------- 4.2/11.5 MB 1.5 MB/s eta 0:00:05\n",
      "   -------------- ------------------------- 4.2/11.5 MB 1.5 MB/s eta 0:00:05\n",
      "   --------------- ------------------------ 4.5/11.5 MB 1.5 MB/s eta 0:00:05\n",
      "   ---------------- ----------------------- 4.7/11.5 MB 1.4 MB/s eta 0:00:05\n",
      "   ---------------- ----------------------- 4.7/11.5 MB 1.4 MB/s eta 0:00:05\n",
      "   ----------------- ---------------------- 5.0/11.5 MB 1.3 MB/s eta 0:00:06\n",
      "   ------------------ --------------------- 5.2/11.5 MB 1.3 MB/s eta 0:00:05\n",
      "   ------------------- -------------------- 5.5/11.5 MB 1.3 MB/s eta 0:00:05\n",
      "   -------------------- ------------------- 5.8/11.5 MB 1.3 MB/s eta 0:00:05\n",
      "   --------------------- ------------------ 6.0/11.5 MB 1.3 MB/s eta 0:00:05\n",
      "   --------------------- ------------------ 6.3/11.5 MB 1.3 MB/s eta 0:00:05\n",
      "   ----------------------- ---------------- 6.8/11.5 MB 1.3 MB/s eta 0:00:04\n",
      "   ------------------------ --------------- 7.1/11.5 MB 1.3 MB/s eta 0:00:04\n",
      "   ------------------------ --------------- 7.1/11.5 MB 1.3 MB/s eta 0:00:04\n",
      "   ------------------------- -------------- 7.3/11.5 MB 1.3 MB/s eta 0:00:04\n",
      "   -------------------------- ------------- 7.6/11.5 MB 1.3 MB/s eta 0:00:04\n",
      "   --------------------------- ------------ 7.9/11.5 MB 1.3 MB/s eta 0:00:03\n",
      "   ---------------------------- ----------- 8.1/11.5 MB 1.3 MB/s eta 0:00:03\n",
      "   ------------------------------ --------- 8.7/11.5 MB 1.3 MB/s eta 0:00:03\n",
      "   ------------------------------- -------- 8.9/11.5 MB 1.3 MB/s eta 0:00:02\n",
      "   -------------------------------- ------- 9.4/11.5 MB 1.3 MB/s eta 0:00:02\n",
      "   -------------------------------- ------- 9.4/11.5 MB 1.3 MB/s eta 0:00:02\n",
      "   --------------------------------- ------ 9.7/11.5 MB 1.3 MB/s eta 0:00:02\n",
      "   ---------------------------------- ----- 10.0/11.5 MB 1.3 MB/s eta 0:00:02\n",
      "   ---------------------------------- ----- 10.0/11.5 MB 1.3 MB/s eta 0:00:02\n",
      "   ----------------------------------- ---- 10.2/11.5 MB 1.3 MB/s eta 0:00:01\n",
      "   ------------------------------------ --- 10.5/11.5 MB 1.3 MB/s eta 0:00:01\n",
      "   ------------------------------------- -- 10.7/11.5 MB 1.2 MB/s eta 0:00:01\n",
      "   ------------------------------------- -- 10.7/11.5 MB 1.2 MB/s eta 0:00:01\n",
      "   -------------------------------------- - 11.0/11.5 MB 1.2 MB/s eta 0:00:01\n",
      "   -------------------------------------- - 11.0/11.5 MB 1.2 MB/s eta 0:00:01\n",
      "   ---------------------------------------  11.3/11.5 MB 1.2 MB/s eta 0:00:01\n",
      "   ---------------------------------------  11.3/11.5 MB 1.2 MB/s eta 0:00:01\n",
      "   ---------------------------------------- 11.5/11.5 MB 1.2 MB/s eta 0:00:00\n",
      "Downloading contourpy-1.3.1-cp313-cp313-win_amd64.whl (220 kB)\n",
      "Using cached cycler-0.12.1-py3-none-any.whl (8.3 kB)\n",
      "Downloading fonttools-4.55.3-cp313-cp313-win_amd64.whl (2.2 MB)\n",
      "   ---------------------------------------- 0.0/2.2 MB ? eta -:--:--\n",
      "   ---------------------------------------- 0.0/2.2 MB ? eta -:--:--\n",
      "   ---- ----------------------------------- 0.3/2.2 MB ? eta -:--:--\n",
      "   --------- ------------------------------ 0.5/2.2 MB 722.8 kB/s eta 0:00:03\n",
      "   --------- ------------------------------ 0.5/2.2 MB 722.8 kB/s eta 0:00:03\n",
      "   --------- ------------------------------ 0.5/2.2 MB 722.8 kB/s eta 0:00:03\n",
      "   -------------- ------------------------- 0.8/2.2 MB 569.1 kB/s eta 0:00:03\n",
      "   -------------- ------------------------- 0.8/2.2 MB 569.1 kB/s eta 0:00:03\n",
      "   ------------------- -------------------- 1.0/2.2 MB 626.3 kB/s eta 0:00:02\n",
      "   ----------------------- ---------------- 1.3/2.2 MB 695.6 kB/s eta 0:00:02\n",
      "   ---------------------------- ----------- 1.6/2.2 MB 766.8 kB/s eta 0:00:01\n",
      "   --------------------------------- ------ 1.8/2.2 MB 817.6 kB/s eta 0:00:01\n",
      "   -------------------------------------- - 2.1/2.2 MB 846.1 kB/s eta 0:00:01\n",
      "   ---------------------------------------- 2.2/2.2 MB 818.0 kB/s eta 0:00:00\n",
      "Downloading kiwisolver-1.4.8-cp313-cp313-win_amd64.whl (71 kB)\n",
      "Downloading pillow-11.1.0-cp313-cp313-win_amd64.whl (2.6 MB)\n",
      "   ---------------------------------------- 0.0/2.6 MB ? eta -:--:--\n",
      "   --- ------------------------------------ 0.3/2.6 MB ? eta -:--:--\n",
      "   ------- -------------------------------- 0.5/2.6 MB 1.6 MB/s eta 0:00:02\n",
      "   ----------- ---------------------------- 0.8/2.6 MB 1.6 MB/s eta 0:00:02\n",
      "   ------------------- -------------------- 1.3/2.6 MB 1.8 MB/s eta 0:00:01\n",
      "   --------------------------- ------------ 1.8/2.6 MB 1.9 MB/s eta 0:00:01\n",
      "   ----------------------------------- ---- 2.4/2.6 MB 1.9 MB/s eta 0:00:01\n",
      "   ---------------------------------------- 2.6/2.6 MB 1.8 MB/s eta 0:00:00\n",
      "Using cached pyparsing-3.2.1-py3-none-any.whl (107 kB)\n",
      "Using cached pytz-2024.2-py2.py3-none-any.whl (508 kB)\n",
      "Using cached tzdata-2024.2-py2.py3-none-any.whl (346 kB)\n",
      "Installing collected packages: pytz, tzdata, pyparsing, pillow, kiwisolver, fonttools, cycler, contourpy, pandas, matplotlib, seaborn\n",
      "Successfully installed contourpy-1.3.1 cycler-0.12.1 fonttools-4.55.3 kiwisolver-1.4.8 matplotlib-3.10.0 pandas-2.2.3 pillow-11.1.0 pyparsing-3.2.1 pytz-2024.2 seaborn-0.13.2 tzdata-2024.2\n",
      "Note: you may need to restart the kernel to use updated packages.\n"
     ]
    },
    {
     "name": "stderr",
     "output_type": "stream",
     "text": [
      "  WARNING: The scripts fonttools.exe, pyftmerge.exe, pyftsubset.exe and ttx.exe are installed in 'c:\\Users\\Comtech\\AppData\\Local\\Programs\\Python\\Python313\\Scripts' which is not on PATH.\n",
      "  Consider adding this directory to PATH or, if you prefer to suppress this warning, use --no-warn-script-location.\n",
      "\n",
      "[notice] A new release of pip is available: 24.2 -> 24.3.1\n",
      "[notice] To update, run: python.exe -m pip install --upgrade pip\n"
     ]
    }
   ],
   "source": [
    "%pip install seaborn \n"
   ]
  },
  {
   "cell_type": "code",
   "execution_count": 4,
   "metadata": {},
   "outputs": [
    {
     "name": "stdout",
     "output_type": "stream",
     "text": [
      "Requirement already satisfied: faker in c:\\python\\python311\\lib\\site-packages (33.3.0)Note: you may need to restart the kernel to use updated packages.\n",
      "\n",
      "Requirement already satisfied: python-dateutil>=2.4 in c:\\users\\comtech\\appdata\\roaming\\python\\python311\\site-packages (from faker) (2.9.0.post0)\n",
      "Requirement already satisfied: typing-extensions in c:\\users\\comtech\\appdata\\roaming\\python\\python311\\site-packages (from faker) (4.12.2)\n",
      "Requirement already satisfied: six>=1.5 in c:\\users\\comtech\\appdata\\roaming\\python\\python311\\site-packages (from python-dateutil>=2.4->faker) (1.16.0)\n"
     ]
    },
    {
     "name": "stderr",
     "output_type": "stream",
     "text": [
      "\n",
      "[notice] A new release of pip is available: 23.1.2 -> 24.3.1\n",
      "[notice] To update, run: python.exe -m pip install --upgrade pip\n"
     ]
    }
   ],
   "source": [
    "%pip install faker"
   ]
  },
  {
   "cell_type": "code",
   "execution_count": null,
   "metadata": {},
   "outputs": [
    {
     "ename": "ImportError",
     "evalue": "cannot import name 'Faker' from 'faker' (d:\\guvi\\faker.py)",
     "output_type": "error",
     "traceback": [
      "\u001b[1;31m---------------------------------------------------------------------------\u001b[0m",
      "\u001b[1;31mImportError\u001b[0m                               Traceback (most recent call last)",
      "Cell \u001b[1;32mIn[23], line 1\u001b[0m\n\u001b[1;32m----> 1\u001b[0m \u001b[38;5;28;01mfrom\u001b[39;00m \u001b[38;5;21;01mfaker\u001b[39;00m \u001b[38;5;28;01mimport\u001b[39;00m Faker\n\u001b[0;32m      2\u001b[0m \u001b[38;5;28;01mimport\u001b[39;00m \u001b[38;5;21;01mrandom\u001b[39;00m\n\u001b[0;32m      3\u001b[0m \u001b[38;5;28;01mimport\u001b[39;00m \u001b[38;5;21;01mpandas\u001b[39;00m \u001b[38;5;28;01mas\u001b[39;00m \u001b[38;5;21;01mpd\u001b[39;00m\n",
      "\u001b[1;31mImportError\u001b[0m: cannot import name 'Faker' from 'faker' (d:\\guvi\\faker.py)"
     ]
    }
   ],
   "source": [
    "from faker import Faker\n",
    "import random\n",
    "import pandas as pd\n",
    "\n",
    "# Initialize Faker instance\n",
    "fake = Faker()\n",
    "\n",
    "# Function to generate random transaction data\n",
    "def generate_transactions(num_transactions=50):\n",
    "    categories = [\"Food\", \"Transportation\", \"Bills\", \"Shopping\", \"Entertainment\", \"Healthcare\", \"Utilities\", \"Insurance\"]\n",
    "    payment_modes = [\"Cash\", \"Online\"]\n",
    "    descriptions = [\n",
    "        \"Grocery shopping\",\n",
    "        \"Taxi fare\",\n",
    "        \"Electricity bill\",\n",
    "        \"New clothes\",\n",
    "        \"Movie tickets\",\n",
    "        \"Doctor visit\",\n",
    "        \"Internet bill\",\n",
    "        \"Life insurance premium\"\n",
    "    ]\n",
    "    \n",
    "    transactions = []\n",
    "    \n",
    "    for _ in range(num_transactions):\n",
    "        transaction = {\n",
    "            \"Date\": fake.date_this_year(),  # Random date in the current year\n",
    "            \"Category\": random.choice(categories),  # Random expense category\n",
    "            \"Payment Mode\": random.choice(payment_modes),  # Random payment mode (Cash or Online)\n",
    "            \"Description\": random.choice(descriptions),  # Random description of the expense\n",
    "            \"Amount Paid\": round(random.uniform(10, 2000), 2),  # Random expense amount between $10 and $2000\n",
    "            \"Cashback\": round(random.uniform(0, 50), 2) if random.choice([True, False]) else 0.00  # Random cashback (if any)\n",
    "        }\n",
    "        \n",
    "        transactions.append(transaction)\n",
    "\n",
    "    return transactions\n",
    "\n",
    "# Generate a dataset of 50 transactions\n",
    "transactions_data = generate_transactions(50)\n",
    "\n",
    "# Convert the data into a pandas DataFrame\n",
    "df = pd.DataFrame(transactions_data)\n",
    "\n",
    "# Print the first few rows of the dataset\n",
    "print(df.head())\n",
    "\n",
    "# Optional: Save the dataset to a CSV file\n",
    "df.to_csv('monthly_expenses.csv', index=False)\n"
   ]
  },
  {
   "cell_type": "code",
   "execution_count": 1,
   "metadata": {},
   "outputs": [
    {
     "name": "stdout",
     "output_type": "stream",
     "text": [
      "Collecting numpy\n",
      "  Downloading numpy-2.2.1-cp313-cp313-win_amd64.whl.metadata (60 kB)\n",
      "Downloading numpy-2.2.1-cp313-cp313-win_amd64.whl (12.6 MB)\n",
      "   ---------------------------------------- 0.0/12.6 MB ? eta -:--:--\n",
      "   - -------------------------------------- 0.5/12.6 MB 5.7 MB/s eta 0:00:03\n",
      "   ------ --------------------------------- 2.1/12.6 MB 6.1 MB/s eta 0:00:02\n",
      "   --------- ------------------------------ 3.1/12.6 MB 5.7 MB/s eta 0:00:02\n",
      "   -------------- ------------------------- 4.5/12.6 MB 5.7 MB/s eta 0:00:02\n",
      "   ------------------ --------------------- 5.8/12.6 MB 5.7 MB/s eta 0:00:02\n",
      "   --------------------- ------------------ 6.8/12.6 MB 5.8 MB/s eta 0:00:01\n",
      "   ------------------------- -------------- 8.1/12.6 MB 5.8 MB/s eta 0:00:01\n",
      "   ---------------------------- ----------- 8.9/12.6 MB 5.7 MB/s eta 0:00:01\n",
      "   ------------------------------- -------- 10.0/12.6 MB 5.5 MB/s eta 0:00:01\n",
      "   ----------------------------------- ---- 11.3/12.6 MB 5.4 MB/s eta 0:00:01\n",
      "   -------------------------------------- - 12.1/12.6 MB 5.2 MB/s eta 0:00:01\n",
      "   ---------------------------------------  12.6/12.6 MB 5.2 MB/s eta 0:00:01\n",
      "   ---------------------------------------- 12.6/12.6 MB 4.7 MB/s eta 0:00:00\n",
      "Installing collected packages: numpy\n",
      "Successfully installed numpy-2.2.1\n",
      "Note: you may need to restart the kernel to use updated packages.\n"
     ]
    },
    {
     "name": "stderr",
     "output_type": "stream",
     "text": [
      "  WARNING: The scripts f2py.exe and numpy-config.exe are installed in 'c:\\Users\\Comtech\\AppData\\Local\\Programs\\Python\\Python313\\Scripts' which is not on PATH.\n",
      "  Consider adding this directory to PATH or, if you prefer to suppress this warning, use --no-warn-script-location.\n",
      "\n",
      "[notice] A new release of pip is available: 24.2 -> 24.3.1\n",
      "[notice] To update, run: python.exe -m pip install --upgrade pip\n"
     ]
    }
   ],
   "source": [
    "%pip install numpy"
   ]
  },
  {
   "cell_type": "code",
   "execution_count": null,
   "metadata": {},
   "outputs": [],
   "source": [
    "%pip install mysql-connector-python  "
   ]
  },
  {
   "cell_type": "code",
   "execution_count": 1,
   "metadata": {},
   "outputs": [],
   "source": [
    "from mysql import connector #import the connector module\n"
   ]
  },
  {
   "cell_type": "code",
   "execution_count": 1,
   "metadata": {},
   "outputs": [
    {
     "ename": "",
     "evalue": "",
     "output_type": "error",
     "traceback": [
      "\u001b[1;31mThe Kernel crashed while executing code in the current cell or a previous cell. \n",
      "\u001b[1;31mPlease review the code in the cell(s) to identify a possible cause of the failure. \n",
      "\u001b[1;31mClick <a href='https://aka.ms/vscodeJupyterKernelCrash'>here</a> for more info. \n",
      "\u001b[1;31mView Jupyter <a href='command:jupyter.viewOutput'>log</a> for further details."
     ]
    }
   ],
   "source": [
    "from mysql import connector\n",
    "connection = connector.connect(\n",
    "    host=\"localhost\",\n",
    "    user=\"root\",\n",
    "    password=\"@sanjhsaroj2\",\n",
    "    \n",
    ")\n",
    "cursor = connection.cursor()"
   ]
  },
  {
   "cell_type": "code",
   "execution_count": 7,
   "metadata": {},
   "outputs": [
    {
     "ename": "ModuleNotFoundError",
     "evalue": "No module named 'matplotlib'",
     "output_type": "error",
     "traceback": [
      "\u001b[1;31m---------------------------------------------------------------------------\u001b[0m",
      "\u001b[1;31mModuleNotFoundError\u001b[0m                       Traceback (most recent call last)",
      "Cell \u001b[1;32mIn[7], line 1\u001b[0m\n\u001b[1;32m----> 1\u001b[0m \u001b[38;5;28;01mimport\u001b[39;00m \u001b[38;5;21;01mmatplotlib\u001b[39;00m \u001b[38;5;28;01mas\u001b[39;00m \u001b[38;5;21;01mmt\u001b[39;00m\n",
      "\u001b[1;31mModuleNotFoundError\u001b[0m: No module named 'matplotlib'"
     ]
    }
   ],
   "source": [
    "import matplotlib as mt"
   ]
  },
  {
   "cell_type": "code",
   "execution_count": 10,
   "metadata": {},
   "outputs": [],
   "source": [
    "import matplotlib as mt\n",
    "    "
   ]
  },
  {
   "cell_type": "code",
   "execution_count": 14,
   "metadata": {},
   "outputs": [
    {
     "name": "stderr",
     "output_type": "stream",
     "text": [
      "UsageError: Line magic function `%` not found.\n"
     ]
    }
   ],
   "source": [
    "pip install matplotlib"
   ]
  },
  {
   "cell_type": "code",
   "execution_count": 1,
   "metadata": {},
   "outputs": [
    {
     "ename": "NameError",
     "evalue": "name 'mysql' is not defined",
     "output_type": "error",
     "traceback": [
      "\u001b[1;31m---------------------------------------------------------------------------\u001b[0m",
      "\u001b[1;31mNameError\u001b[0m                                 Traceback (most recent call last)",
      "Cell \u001b[1;32mIn[1], line 10\u001b[0m\n\u001b[0;32m      6\u001b[0m database \u001b[38;5;241m=\u001b[39m \u001b[38;5;124m\"\u001b[39m\u001b[38;5;124mguvi\u001b[39m\u001b[38;5;124m\"\u001b[39m  \u001b[38;5;66;03m# Replace with the database name you want to connect to\u001b[39;00m\n\u001b[0;32m      9\u001b[0m \u001b[38;5;66;03m# Establish the connection\u001b[39;00m\n\u001b[1;32m---> 10\u001b[0m connection \u001b[38;5;241m=\u001b[39m \u001b[43mmysql\u001b[49m\u001b[38;5;241m.\u001b[39mconnector\u001b[38;5;241m.\u001b[39mconnect(\n\u001b[0;32m     11\u001b[0m         host\u001b[38;5;241m=\u001b[39mhost,\n\u001b[0;32m     12\u001b[0m         port\u001b[38;5;241m=\u001b[39mport,\n\u001b[0;32m     13\u001b[0m         user\u001b[38;5;241m=\u001b[39muser,\n\u001b[0;32m     14\u001b[0m         password\u001b[38;5;241m=\u001b[39mpassword,\n\u001b[0;32m     15\u001b[0m         database\u001b[38;5;241m=\u001b[39mdatabase )\n\u001b[0;32m     17\u001b[0m \u001b[38;5;28;01mif\u001b[39;00m connection\u001b[38;5;241m.\u001b[39mis_connected():\n\u001b[0;32m     18\u001b[0m         \u001b[38;5;28mprint\u001b[39m(\u001b[38;5;124m\"\u001b[39m\u001b[38;5;124mConnected to MySQL server\u001b[39m\u001b[38;5;124m\"\u001b[39m)\n",
      "\u001b[1;31mNameError\u001b[0m: name 'mysql' is not defined"
     ]
    }
   ],
   "source": [
    "\n",
    "# Connection details\n",
    "host = \"localhost\"\n",
    "port = 3306\n",
    "user = \"host\"  # Replace with your MySQL username\n",
    "password = \"12345678\"  # Replace with your MySQL password\n",
    "database = \"guvi\"  # Replace with the database name you want to connect to\n",
    "\n",
    "\n",
    "# Establish the connection\n",
    "connection = mysql.connector.connect(\n",
    "        host=host,\n",
    "        port=port,\n",
    "        user=user,\n",
    "        password=password,\n",
    "        database=database )\n",
    "\n",
    "if connection.is_connected():\n",
    "        print(\"Connected to MySQL server\")"
   ]
  },
  {
   "cell_type": "code",
   "execution_count": null,
   "metadata": {},
   "outputs": [],
   "source": []
  }
 ],
 "metadata": {
  "kernelspec": {
   "display_name": "Python 3",
   "language": "python",
   "name": "python3"
  },
  "language_info": {
   "codemirror_mode": {
    "name": "ipython",
    "version": 3
   },
   "file_extension": ".py",
   "mimetype": "text/x-python",
   "name": "python",
   "nbconvert_exporter": "python",
   "pygments_lexer": "ipython3",
   "version": "3.13.0"
  }
 },
 "nbformat": 4,
 "nbformat_minor": 2
}
